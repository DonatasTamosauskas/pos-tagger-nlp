{
 "cells": [
  {
   "cell_type": "code",
   "execution_count": 1,
   "metadata": {},
   "outputs": [
    {
     "name": "stdout",
     "output_type": "stream",
     "text": [
      "Requirement already satisfied: numpy in /usr/local/lib/python3.7/site-packages (1.16.3)\r\n"
     ]
    }
   ],
   "source": [
    "!pip3 install numpy"
   ]
  },
  {
   "cell_type": "code",
   "execution_count": 2,
   "metadata": {},
   "outputs": [
    {
     "name": "stdout",
     "output_type": "stream",
     "text": [
      "Finished...\n",
      "Time: 0:00:00.000111\n"
     ]
    }
   ],
   "source": [
    "# python3.5 buildtagger.py <train_file_absolute_path> <model_file_absolute_path>\n",
    "\n",
    "import os\n",
    "import math\n",
    "import sys\n",
    "import datetime\n",
    "import numpy as np\n",
    "\n",
    "\n",
    "def train_model(train_file, model_file):\n",
    "    # write your code here. You can add functions as well.\n",
    "    print('Finished...')\n",
    "\n",
    "if __name__ == \"__main__\":\n",
    "    # make no changes here\n",
    "    train_file = sys.argv[1]\n",
    "    model_file = sys.argv[2]\n",
    "    start_time = datetime.datetime.now()\n",
    "    train_model(train_file, model_file)\n",
    "    end_time = datetime.datetime.now()\n",
    "    print('Time:', end_time - start_time)\n"
   ]
  },
  {
   "cell_type": "code",
   "execution_count": 3,
   "metadata": {},
   "outputs": [
    {
     "ename": "IndexError",
     "evalue": "list index out of range",
     "output_type": "error",
     "traceback": [
      "\u001b[0;31m---------------------------------------------------------------------------\u001b[0m",
      "\u001b[0;31mIndexError\u001b[0m                                Traceback (most recent call last)",
      "\u001b[0;32m<ipython-input-3-cf9dc9c10541>\u001b[0m in \u001b[0;36m<module>\u001b[0;34m\u001b[0m\n\u001b[1;32m     16\u001b[0m     \u001b[0mtest_file\u001b[0m \u001b[0;34m=\u001b[0m \u001b[0msys\u001b[0m\u001b[0;34m.\u001b[0m\u001b[0margv\u001b[0m\u001b[0;34m[\u001b[0m\u001b[0;36m1\u001b[0m\u001b[0;34m]\u001b[0m\u001b[0;34m\u001b[0m\u001b[0;34m\u001b[0m\u001b[0m\n\u001b[1;32m     17\u001b[0m     \u001b[0mmodel_file\u001b[0m \u001b[0;34m=\u001b[0m \u001b[0msys\u001b[0m\u001b[0;34m.\u001b[0m\u001b[0margv\u001b[0m\u001b[0;34m[\u001b[0m\u001b[0;36m2\u001b[0m\u001b[0;34m]\u001b[0m\u001b[0;34m\u001b[0m\u001b[0;34m\u001b[0m\u001b[0m\n\u001b[0;32m---> 18\u001b[0;31m     \u001b[0mout_file\u001b[0m \u001b[0;34m=\u001b[0m \u001b[0msys\u001b[0m\u001b[0;34m.\u001b[0m\u001b[0margv\u001b[0m\u001b[0;34m[\u001b[0m\u001b[0;36m3\u001b[0m\u001b[0;34m]\u001b[0m\u001b[0;34m\u001b[0m\u001b[0;34m\u001b[0m\u001b[0m\n\u001b[0m\u001b[1;32m     19\u001b[0m     \u001b[0mstart_time\u001b[0m \u001b[0;34m=\u001b[0m \u001b[0mdatetime\u001b[0m\u001b[0;34m.\u001b[0m\u001b[0mdatetime\u001b[0m\u001b[0;34m.\u001b[0m\u001b[0mnow\u001b[0m\u001b[0;34m(\u001b[0m\u001b[0;34m)\u001b[0m\u001b[0;34m\u001b[0m\u001b[0;34m\u001b[0m\u001b[0m\n\u001b[1;32m     20\u001b[0m     \u001b[0mtag_sentence\u001b[0m\u001b[0;34m(\u001b[0m\u001b[0mtest_file\u001b[0m\u001b[0;34m,\u001b[0m \u001b[0mmodel_file\u001b[0m\u001b[0;34m,\u001b[0m \u001b[0mout_file\u001b[0m\u001b[0;34m)\u001b[0m\u001b[0;34m\u001b[0m\u001b[0;34m\u001b[0m\u001b[0m\n",
      "\u001b[0;31mIndexError\u001b[0m: list index out of range"
     ]
    }
   ],
   "source": [
    "# python3.5 runtagger.py <test_file_absolute_path> <model_file_absolute_path> <output_file_absolute_path>\n",
    "\n",
    "import os\n",
    "import math\n",
    "import sys\n",
    "import datetime\n",
    "import numpy as np\n",
    "\n",
    "\n",
    "def tag_sentence(test_file, model_file, out_file):\n",
    "    # write your code here. You can add functions as well.\n",
    "    print('Finished...')\n",
    "\n",
    "if __name__ == \"__main__\":\n",
    "    # make no changes here\n",
    "    test_file = sys.argv[1]\n",
    "    model_file = sys.argv[2]\n",
    "    out_file = sys.argv[3]\n",
    "    start_time = datetime.datetime.now()\n",
    "    tag_sentence(test_file, model_file, out_file)\n",
    "    end_time = datetime.datetime.now()\n",
    "    print('Time:', end_time - start_time)\n"
   ]
  },
  {
   "cell_type": "markdown",
   "metadata": {},
   "source": [
    "## Creating the model statistics\n",
    "\n",
    "Need to handle special cases like these:\n",
    " - fractions like: 1/2/CD\n",
    " - multiple listings: pianist/bassoonist/composer/NN\n",
    " \n",
    " As far as I understand all of the words belong to the same POS. \n",
    " A function that adds both words should be implemented, but an initial version function should simply take the last two elements and uses them as word + tag.\n",
    " \n",
    " \n",
    " Also, likely the score could be improved by adding add-one-smoothing"
   ]
  },
  {
   "cell_type": "code",
   "execution_count": 209,
   "metadata": {},
   "outputs": [],
   "source": [
    "import itertools\n",
    "flatten = lambda x: list(itertools.chain.from_iterable(x))\n",
    "\n",
    "class PosModelStats():\n",
    "    def __init__(self, emissions, transitions, words, tags):\n",
    "        self.emissions = emissions\n",
    "        self.transitions = transitions\n",
    "        self.words = words\n",
    "        self.tags = tags\n",
    "        \n",
    "\n",
    "def extract_frequencies(filename):\n",
    "    emission_dict = {}\n",
    "    transition_dict = {}\n",
    "    unique_words = set()\n",
    "    unique_tags = set()\n",
    "\n",
    "    with open(filename) as training_file:\n",
    "        word_tag_pairs = [sentence.split(\" \") for sentence in training_file.read().split(\"\\n\")]\n",
    "        word_tag_pairs = flatten(word_tag_pairs)\n",
    "        word_count = len(word_tag_pairs)\n",
    "        previous_tag = word_tag_pairs[0].split(\"/\")[-1]\n",
    "\n",
    "        for word_tag in word_tag_pairs:\n",
    "            if len(word_tag.split(\"/\")) < 2:\n",
    "                continue\n",
    "\n",
    "            word, tag = word_tag.split(\"/\")[-2:]\n",
    "\n",
    "            unique_words.add(word)\n",
    "            unique_tags.add(tag)\n",
    "\n",
    "            if word_tag not in emission_dict.keys():\n",
    "                emission_dict[word_tag] = 1\n",
    "            else:\n",
    "                emission_dict[word_tag] += 1\n",
    "\n",
    "            if previous_tag + \" \" + tag not in transition_dict.keys():\n",
    "                transition_dict[previous_tag + \" \" + tag] = 1\n",
    "            else:\n",
    "                transition_dict[previous_tag + \" \" + tag] += 1\n",
    "\n",
    "            previous_tag = tag\n",
    "    \n",
    "    return PosModelStats(emission_dict, transition_dict, unique_words, unique_tags)"
   ]
  },
  {
   "cell_type": "markdown",
   "metadata": {},
   "source": [
    "## Using only tags for dictionary, but still using touples instead of strings"
   ]
  },
  {
   "cell_type": "code",
   "execution_count": 4,
   "metadata": {},
   "outputs": [],
   "source": [
    "import itertools\n",
    "import _pickle as pickle\n",
    "\n",
    "flatten = lambda x: list(itertools.chain.from_iterable(x))\n",
    "\n",
    "class Dictionary():\n",
    "    def __init__(self):\n",
    "        self.word_dict = {}\n",
    "        self.tag_dict = {}\n",
    "        \n",
    "        self.word_count = 0\n",
    "        self.tag_count = 0\n",
    "    \n",
    "    def add_word(self, word):\n",
    "        if word not in self.word_dict.values():\n",
    "            self.word_dict[self.word_count] = word\n",
    "            self.word_count += 1\n",
    "            return self.word_count - 1\n",
    "        return self.get_word_id(word)\n",
    "    \n",
    "    def add_tag(self, tag):\n",
    "        if tag not in self.tag_dict.values():\n",
    "            self.tag_dict[self.tag_count] = tag\n",
    "            self.tag_count += 1\n",
    "            return self.tag_count - 1\n",
    "        return self.get_tag_id(tag)\n",
    "            \n",
    "    def get_word_id(self, word):\n",
    "        for key, known_word in self.word_dict.items():\n",
    "            if word == known_word:\n",
    "                return key\n",
    "    \n",
    "    def get_tag_id(self, tag):\n",
    "        for key, known_tag in self.tag_dict.items():\n",
    "            if tag == known_tag:\n",
    "                return key\n",
    "    \n",
    "    def get_word_tag_tuple(self, word_tag):\n",
    "        words_tag = word_tag.split(\"/\")\n",
    "        assert len(words_tag) > 1, \"Bad format for word/tag: {}\".format(word_tag)\n",
    "        \n",
    "        word_ids = [self.get_word_id(word) for word in words_tag[:-1]]\n",
    "        tag_id = self.get_tag_id(words_tag[-1])\n",
    "        word_ids.append(tag_id)\n",
    "        return tuple(word_ids)\n",
    "    \n",
    "    \n",
    "class PosStatsText():\n",
    "    def __init__(self):\n",
    "        self.emissions = {}\n",
    "        self.transitions = {}\n",
    "        self.dictionary = Dictionary()\n",
    "        \n",
    "    def add_tag(self, tag):\n",
    "        return self.dictionary.add_tag(tag)\n",
    "        \n",
    "    def add_emission(self, word_id, tag_id):\n",
    "        if (word_id, tag_id) not in self.emissions.keys():\n",
    "            self.emissions[(word_id, tag_id)] = 1\n",
    "        else:\n",
    "            self.emissions[(word_id, tag_id)] += 1\n",
    "        \n",
    "    def add_transition(self, previous_tag_id, tag_id):\n",
    "        if (previous_tag_id, tag_id) not in self.transitions.keys():\n",
    "            self.transitions[(previous_tag_id, tag_id)] = 1\n",
    "        else:\n",
    "            self.transitions[(previous_tag_id, tag_id)] += 1\n",
    "\n",
    "            \n",
    "def extract_frequencies_tuple_text(filename):    \n",
    "    pos_stats = PosStatsText()\n",
    "\n",
    "    with open(filename) as training_file:\n",
    "        word_tag_pairs = flatten([sentence.split(\" \") for sentence in training_file.read().split(\"\\n\")])        \n",
    "        previous_tag_id = pos_stats.add_tag(word_tag_pairs[0].split(\"/\")[-1])\n",
    "\n",
    "        for word_tag in word_tag_pairs:\n",
    "            if len(word_tag.split(\"/\")) < 2:\n",
    "                continue\n",
    "\n",
    "            word, tag = word_tag.split(\"/\")[-2:]\n",
    "            tag_id = pos_stats.add_tag(tag)\n",
    "            \n",
    "            pos_stats.add_emission(word, tag_id)\n",
    "            pos_stats.add_transition(previous_tag_id, tag_id)\n",
    "\n",
    "            previous_tag_id = tag_id\n",
    "    \n",
    "    return pos_stats \n",
    "\n",
    "def write_output(model_stats, filename=\"model-file\"):\n",
    "    with open(filename, \"wb\") as model_file:\n",
    "        model_file.write(pickle.dumps(model_stats))\n",
    "    \n",
    "def train_model(train_file, model_file):\n",
    "    model_stats = extract_frequencies_tuple_text(train_file)\n",
    "    write_output(model_stats, filename=model_file)"
   ]
  },
  {
   "cell_type": "code",
   "execution_count": 5,
   "metadata": {},
   "outputs": [
    {
     "name": "stdout",
     "output_type": "stream",
     "text": [
      "CPU times: user 5.53 s, sys: 91.2 ms, total: 5.62 s\n",
      "Wall time: 5.8 s\n"
     ]
    }
   ],
   "source": [
    "%%time\n",
    "train_model('sents.train', 'model-file')"
   ]
  },
  {
   "cell_type": "markdown",
   "metadata": {},
   "source": [
    "# Simple implementation of POS tagger"
   ]
  },
  {
   "cell_type": "code",
   "execution_count": 143,
   "metadata": {},
   "outputs": [],
   "source": [
    "def read_and_tag(input_filename, pos_tagger):\n",
    "    tagged_sent = []\n",
    "\n",
    "    with open(input_filename, \"r\") as input_file:\n",
    "        sentences = input_file.read().split(\"\\n\")\n",
    "\n",
    "        for sentence in progress_bar(sentences):\n",
    "            tagged_sent.append(pos_tagger(sentence))\n",
    "    \n",
    "    return tagged_sent"
   ]
  },
  {
   "cell_type": "markdown",
   "metadata": {},
   "source": [
    "## Problems\n",
    "\n",
    "How do I deal with words that have yet to be seen in the training data?\n",
    "- Possibly remove capitalization before collecting stats?\n",
    "\n",
    "Very slow performance\n",
    "- Create a dictionary of words and use the word embeddings instead of a dictionary\n",
    "\n",
    "Need to calculate the begining of the sentence transition as well\n",
    "\n",
    "Possibly ignore dictionary creation, but use tuples instead of the initial implementation of the training algorithm"
   ]
  },
  {
   "cell_type": "code",
   "execution_count": 154,
   "metadata": {},
   "outputs": [],
   "source": [
    "from functools import partial\n",
    "from fastprogress import progress_bar\n",
    "\n",
    "common_tag = \"NN\"\n",
    "\n",
    "def word_emissions(word, keys):\n",
    "    return [key for key in keys if key.startswith(word)]\n",
    "\n",
    "def simple_pos_tagger(sentence, stats):\n",
    "    tagged_sentence = []\n",
    "    keys = stats.emissions.keys()\n",
    "    \n",
    "    for word in sentence.split(\" \"):\n",
    "        emission_tags = word_emissions(word, keys)\n",
    "        emission_probs = [stats.emissions[word_tag] for word_tag in emission_tags]\n",
    "\n",
    "        if len(emission_tags) > 0:\n",
    "            tagged_sentence.append(emission_tags[np.argmax(emission_probs)])\n",
    "        else:\n",
    "#             print(\"Word hasn't appeared in the training data: {}\".format(word))\n",
    "            tagged_sentence.append(\"{}/{}\".format(word, common_tag))\n",
    "        \n",
    "    return \" \".join(tagged_sentence)\n",
    "\n",
    "simple_stats_tagger = partial(simple_pos_tagger, stats=loaded)"
   ]
  },
  {
   "cell_type": "code",
   "execution_count": 156,
   "metadata": {},
   "outputs": [
    {
     "data": {
      "text/html": [
       "\n",
       "    <div>\n",
       "        <style>\n",
       "            /* Turns off some styling */\n",
       "            progress {\n",
       "                /* gets rid of default border in Firefox and Opera. */\n",
       "                border: none;\n",
       "                /* Needs to be in here for Safari polyfill so background images work as expected. */\n",
       "                background-size: auto;\n",
       "            }\n",
       "            .progress-bar-interrupted, .progress-bar-interrupted::-webkit-progress-bar {\n",
       "                background: #F44336;\n",
       "            }\n",
       "        </style>\n",
       "      <progress value='1994' class='' max='1994', style='width:300px; height:20px; vertical-align: middle;'></progress>\n",
       "      100.00% [1994/1994 09:32<00:00]\n",
       "    </div>\n",
       "    "
      ],
      "text/plain": [
       "<IPython.core.display.HTML object>"
      ]
     },
     "metadata": {},
     "output_type": "display_data"
    },
    {
     "name": "stdout",
     "output_type": "stream",
     "text": [
      "CPU times: user 9min 7s, sys: 3.54 s, total: 9min 11s\n",
      "Wall time: 9min 32s\n"
     ]
    }
   ],
   "source": [
    "%%time\n",
    "\n",
    "tagged = read_and_tag(\"sents.test\", pos_tagger=simple_stats_tagger)"
   ]
  },
  {
   "cell_type": "code",
   "execution_count": 160,
   "metadata": {},
   "outputs": [],
   "source": [
    "with open(\"simple_test_output.txt\", \"w\") as out_file:\n",
    "    out_file.write(\"\\n\".join(tagged[:-1]))"
   ]
  },
  {
   "cell_type": "markdown",
   "metadata": {},
   "source": [
    "# Hidden Markov Model implemented with Viterbi algorithm"
   ]
  },
  {
   "cell_type": "code",
   "execution_count": 8,
   "metadata": {},
   "outputs": [],
   "source": [
    "from functools import partial\n",
    "\n",
    "\n",
    "class PosStatsModel():\n",
    "    def __init__(self, pos_stats=None):\n",
    "        self.emissions = {}\n",
    "        self.transitions = {}\n",
    "        self.dictionary = Dictionary()\n",
    "        self.MIN_PROB_VALUE = 10e-5\n",
    "        \n",
    "        if pos_stats is not None:\n",
    "            self.emissions = pos_stats.emissions\n",
    "            self.transitions = pos_stats.transitions\n",
    "            self.dictionary = pos_stats.dictionary\n",
    "        \n",
    "    def add_tag(self, tag):\n",
    "        return self.dictionary.add_tag(tag)\n",
    "    \n",
    "    def get_all_tag_ids(self):\n",
    "        return self.dictionary.tag_dict.keys()\n",
    "        \n",
    "    def add_emission(self, word_id, tag_id):\n",
    "        if (word_id, tag_id) not in self.emissions.keys():\n",
    "            self.emissions[(word_id, tag_id)] = 1\n",
    "        else:\n",
    "            self.emissions[(word_id, tag_id)] += 1\n",
    "        \n",
    "    def add_transition(self, previous_tag_id, tag_id):\n",
    "        if (previous_tag_id, tag_id) not in self.transitions.keys():\n",
    "            self.transitions[(previous_tag_id, tag_id)] = 1\n",
    "        else:\n",
    "            self.transitions[(previous_tag_id, tag_id)] += 1\n",
    "    \n",
    "    def get_emission_prob(self, word, tag):\n",
    "        try:\n",
    "            return self.emissions[(word, tag)]\n",
    "        except KeyError:\n",
    "            return self.MIN_PROB_VALUE\n",
    "        \n",
    "    def get_transition_prob(self, prev_tag, tag):\n",
    "        try:\n",
    "            return self.transitions[(prev_tag, tag)]\n",
    "        except KeyError:\n",
    "            return self.MIN_PROB_VALUE\n",
    "    \n",
    "    \n",
    "def get_transition_probs(previous_probs, pos_stats, tags):\n",
    "    max_ids = []\n",
    "    probs = []\n",
    "    \n",
    "    for tag_id in tags:\n",
    "        transitions = [pos_stats.get_transition_prob(prev_tag_id, tag_id) for prev_tag_id in tags]\n",
    "        transitions_with_previous = previous_probs * np.array(transitions)\n",
    "        max_id = np.argmax(transitions_with_previous)\n",
    "        max_ids.append(max_id)\n",
    "        probs.append(transitions_with_previous[max_id])\n",
    "        \n",
    "    return probs, max_ids\n",
    "\n",
    "def combine_words_tags(words, tag_list, pos_stats):\n",
    "    for i in range(len(words)):\n",
    "        words[i] = words[i] + \"/\" + pos_stats.dictionary.tag_dict[tag_list[i]]\n",
    "    \n",
    "    return \" \".join(words)\n",
    "    \n",
    "def get_sentence_tags(sentence, pos_stats):\n",
    "    pos_tags = pos_stats.get_all_tag_ids()\n",
    "    words = sentence.split(\" \")\n",
    "\n",
    "    viterbi = np.zeros((len(pos_tags), len(words)), float)\n",
    "    backpointers = np.zeros((len(pos_tags), len(words)), int)\n",
    "\n",
    "    # fill in initial probs\n",
    "    # for now skipping the beginning of the sentence probability\n",
    "\n",
    "    viterbi[:, 0] = [pos_stats.get_emission_prob(words[0], tag_id) for tag_id in pos_tags]\n",
    "    backpointers[:, 0] = -1\n",
    "\n",
    "    # fill in the full matrix\n",
    "    for i, word in enumerate(words[1:]):\n",
    "        emission_probs = [pos_stats.get_emission_prob(word, tag_id) for tag_id in pos_tags]\n",
    "        transition_probs, new_backpointers = get_transition_probs(viterbi[:, i], pos_stats, pos_tags)\n",
    "\n",
    "        viterbi[:, i + 1] = np.array(emission_probs) * np.array(transition_probs)\n",
    "        backpointers[:, i + 1] = new_backpointers\n",
    "\n",
    "    # Also need to calculate the ending probabilities\n",
    "    tag_list = np.zeros(len(words) + 1, int)\n",
    "    \n",
    "    final_tag = np.argmax(viterbi[:, -1]) # this should be in accordance to the end of the sentence\n",
    "    tag_list[-1] = final_tag\n",
    "    previous_back = final_tag\n",
    "\n",
    "    for word_pos in reversed(range(1, len(words))):\n",
    "        tag_list[word_pos] = backpointers[previous_back, word_pos]\n",
    "        previous_back = tag_list[word_pos]\n",
    "        \n",
    "    tag_list = tag_list[1:]\n",
    "        \n",
    "    return combine_words_tags(words, tag_list, pos_stats)\n",
    "\n",
    "def read_and_tag(input_filename, pos_tagger):\n",
    "    tagged_sent = []\n",
    "\n",
    "    with open(input_filename, \"r\") as input_file:\n",
    "        sentences = input_file.read().split(\"\\n\")\n",
    "\n",
    "        for sentence in sentences:\n",
    "            tagged_sent.append(pos_tagger(sentence))\n",
    "    \n",
    "    return tagged_sent\n",
    "\n",
    "def load_model_file(filename):\n",
    "    with open(filename, \"rb\") as model_read:\n",
    "        model_file = pickle.load(model_read)\n",
    "        return model_file\n",
    "    \n",
    "def tag_sentence(test_file, model_file, out_file):\n",
    "    model_stats = PosStatsModel(pos_stats=load_model_file(model_file))\n",
    "    hmm_viterbi_tagger = partial(get_sentence_tags, pos_stats=model_stats)\n",
    "    \n",
    "    tagged_sentences = read_and_tag(test_file, pos_tagger=hmm_viterbi_tagger)\n",
    "    with open(out_file, \"w\") as out_file:\n",
    "        out_file.write(\"\\n\".join(tagged_sentences[:-1]))\n",
    "        \n",
    "    print('Finished...') "
   ]
  },
  {
   "cell_type": "markdown",
   "metadata": {},
   "source": [
    "## Implementing the new prediction model"
   ]
  },
  {
   "cell_type": "code",
   "execution_count": 9,
   "metadata": {},
   "outputs": [
    {
     "name": "stderr",
     "output_type": "stream",
     "text": [
      "/usr/local/lib/python3.7/site-packages/ipykernel_launcher.py:84: RuntimeWarning: overflow encountered in multiply\n",
      "/usr/local/lib/python3.7/site-packages/ipykernel_launcher.py:53: RuntimeWarning: overflow encountered in multiply\n"
     ]
    },
    {
     "name": "stdout",
     "output_type": "stream",
     "text": [
      "Finished...\n",
      "CPU times: user 1min 23s, sys: 862 ms, total: 1min 24s\n",
      "Wall time: 1min 28s\n"
     ]
    }
   ],
   "source": [
    "%%time\n",
    "\n",
    "tag_sentence(\"sents.test\", \"model-file\", \"viterbi-preds.txt\")"
   ]
  },
  {
   "cell_type": "code",
   "execution_count": null,
   "metadata": {},
   "outputs": [],
   "source": []
  }
 ],
 "metadata": {
  "kernelspec": {
   "display_name": "Python 3",
   "language": "python",
   "name": "python3"
  },
  "language_info": {
   "codemirror_mode": {
    "name": "ipython",
    "version": 3
   },
   "file_extension": ".py",
   "mimetype": "text/x-python",
   "name": "python",
   "nbconvert_exporter": "python",
   "pygments_lexer": "ipython3",
   "version": "3.7.4"
  }
 },
 "nbformat": 4,
 "nbformat_minor": 2
}
