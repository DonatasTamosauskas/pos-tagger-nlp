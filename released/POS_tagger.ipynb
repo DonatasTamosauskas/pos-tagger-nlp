{
 "cells": [
  {
   "cell_type": "code",
   "execution_count": 140,
   "metadata": {
    "collapsed": true
   },
   "outputs": [
    {
     "name": "stdout",
     "output_type": "stream",
     "text": [
      "Requirement already satisfied: numpy in /usr/local/lib/python3.7/site-packages (1.16.3)\n",
      "Requirement already satisfied: nltk in /usr/local/lib/python3.7/site-packages (3.4.5)\n",
      "Collecting fastprogress\n",
      "  Downloading https://files.pythonhosted.org/packages/83/db/794db47024a26c75635c35f0ee5431aa8b528e895ad1ed958041290f83f7/fastprogress-0.1.21-py3-none-any.whl\n",
      "Requirement already satisfied: six in /usr/local/lib/python3.7/site-packages (from nltk) (1.12.0)\n",
      "Installing collected packages: fastprogress\n",
      "Successfully installed fastprogress-0.1.21\n"
     ]
    }
   ],
   "source": [
    "!pip3 install numpy nltk fastprogress"
   ]
  },
  {
   "cell_type": "code",
   "execution_count": 5,
   "metadata": {},
   "outputs": [
    {
     "name": "stdout",
     "output_type": "stream",
     "text": [
      "Finished...\n",
      "Time: 0:00:00.000121\n"
     ]
    }
   ],
   "source": [
    "# python3.5 buildtagger.py <train_file_absolute_path> <model_file_absolute_path>\n",
    "\n",
    "import os\n",
    "import math\n",
    "import sys\n",
    "import datetime\n",
    "import numpy as np\n",
    "\n",
    "\n",
    "def train_model(train_file, model_file):\n",
    "    # write your code here. You can add functions as well.\n",
    "    print('Finished...')\n",
    "\n",
    "if __name__ == \"__main__\":\n",
    "    # make no changes here\n",
    "    train_file = sys.argv[1]\n",
    "    model_file = sys.argv[2]\n",
    "    start_time = datetime.datetime.now()\n",
    "    train_model(train_file, model_file)\n",
    "    end_time = datetime.datetime.now()\n",
    "    print('Time:', end_time - start_time)\n"
   ]
  },
  {
   "cell_type": "code",
   "execution_count": 5,
   "metadata": {},
   "outputs": [
    {
     "ename": "IndexError",
     "evalue": "list index out of range",
     "output_type": "error",
     "traceback": [
      "\u001b[0;31m---------------------------------------------------------------------------\u001b[0m",
      "\u001b[0;31mIndexError\u001b[0m                                Traceback (most recent call last)",
      "\u001b[0;32m<ipython-input-5-cf9dc9c10541>\u001b[0m in \u001b[0;36m<module>\u001b[0;34m\u001b[0m\n\u001b[1;32m     16\u001b[0m     \u001b[0mtest_file\u001b[0m \u001b[0;34m=\u001b[0m \u001b[0msys\u001b[0m\u001b[0;34m.\u001b[0m\u001b[0margv\u001b[0m\u001b[0;34m[\u001b[0m\u001b[0;36m1\u001b[0m\u001b[0;34m]\u001b[0m\u001b[0;34m\u001b[0m\u001b[0m\n\u001b[1;32m     17\u001b[0m     \u001b[0mmodel_file\u001b[0m \u001b[0;34m=\u001b[0m \u001b[0msys\u001b[0m\u001b[0;34m.\u001b[0m\u001b[0margv\u001b[0m\u001b[0;34m[\u001b[0m\u001b[0;36m2\u001b[0m\u001b[0;34m]\u001b[0m\u001b[0;34m\u001b[0m\u001b[0m\n\u001b[0;32m---> 18\u001b[0;31m     \u001b[0mout_file\u001b[0m \u001b[0;34m=\u001b[0m \u001b[0msys\u001b[0m\u001b[0;34m.\u001b[0m\u001b[0margv\u001b[0m\u001b[0;34m[\u001b[0m\u001b[0;36m3\u001b[0m\u001b[0;34m]\u001b[0m\u001b[0;34m\u001b[0m\u001b[0m\n\u001b[0m\u001b[1;32m     19\u001b[0m     \u001b[0mstart_time\u001b[0m \u001b[0;34m=\u001b[0m \u001b[0mdatetime\u001b[0m\u001b[0;34m.\u001b[0m\u001b[0mdatetime\u001b[0m\u001b[0;34m.\u001b[0m\u001b[0mnow\u001b[0m\u001b[0;34m(\u001b[0m\u001b[0;34m)\u001b[0m\u001b[0;34m\u001b[0m\u001b[0m\n\u001b[1;32m     20\u001b[0m     \u001b[0mtag_sentence\u001b[0m\u001b[0;34m(\u001b[0m\u001b[0mtest_file\u001b[0m\u001b[0;34m,\u001b[0m \u001b[0mmodel_file\u001b[0m\u001b[0;34m,\u001b[0m \u001b[0mout_file\u001b[0m\u001b[0;34m)\u001b[0m\u001b[0;34m\u001b[0m\u001b[0m\n",
      "\u001b[0;31mIndexError\u001b[0m: list index out of range"
     ]
    }
   ],
   "source": [
    "# python3.5 runtagger.py <test_file_absolute_path> <model_file_absolute_path> <output_file_absolute_path>\n",
    "\n",
    "import os\n",
    "import math\n",
    "import sys\n",
    "import datetime\n",
    "import numpy as np\n",
    "\n",
    "\n",
    "def tag_sentence(test_file, model_file, out_file):\n",
    "    # write your code here. You can add functions as well.\n",
    "    print('Finished...')\n",
    "\n",
    "if __name__ == \"__main__\":\n",
    "    # make no changes here\n",
    "    test_file = sys.argv[1]\n",
    "    model_file = sys.argv[2]\n",
    "    out_file = sys.argv[3]\n",
    "    start_time = datetime.datetime.now()\n",
    "    tag_sentence(test_file, model_file, out_file)\n",
    "    end_time = datetime.datetime.now()\n",
    "    print('Time:', end_time - start_time)\n"
   ]
  },
  {
   "cell_type": "markdown",
   "metadata": {},
   "source": [
    "## Creating the model statistics\n",
    "\n",
    "Need to handle special cases like these:\n",
    " - fractions like: 1/2/CD\n",
    " - multiple listings: pianist/bassoonist/composer/NN\n",
    " \n",
    " As far as I understand all of the words belong to the same POS. \n",
    " A function that adds both words should be implemented, but an initial version function should simply take the last two elements and uses them as word + tag.\n",
    " \n",
    " \n",
    " Also, likely the score could be improved by adding add-one-smoothing"
   ]
  },
  {
   "cell_type": "code",
   "execution_count": 209,
   "metadata": {},
   "outputs": [],
   "source": [
    "import itertools\n",
    "flatten = lambda x: list(itertools.chain.from_iterable(x))\n",
    "\n",
    "class PosModelStats():\n",
    "    def __init__(self, emissions, transitions, words, tags):\n",
    "        self.emissions = emissions\n",
    "        self.transitions = transitions\n",
    "        self.words = words\n",
    "        self.tags = tags\n",
    "        \n",
    "\n",
    "def extract_frequencies(filename):\n",
    "    emission_dict = {}\n",
    "    transition_dict = {}\n",
    "    unique_words = set()\n",
    "    unique_tags = set()\n",
    "\n",
    "    with open(filename) as training_file:\n",
    "        word_tag_pairs = [sentence.split(\" \") for sentence in training_file.read().split(\"\\n\")]\n",
    "        word_tag_pairs = flatten(word_tag_pairs)\n",
    "        word_count = len(word_tag_pairs)\n",
    "        previous_tag = word_tag_pairs[0].split(\"/\")[-1]\n",
    "\n",
    "        for word_tag in word_tag_pairs:\n",
    "            if len(word_tag.split(\"/\")) < 2:\n",
    "                continue\n",
    "\n",
    "            word, tag = word_tag.split(\"/\")[-2:]\n",
    "\n",
    "            unique_words.add(word)\n",
    "            unique_tags.add(tag)\n",
    "\n",
    "            if word_tag not in emission_dict.keys():\n",
    "                emission_dict[word_tag] = 1\n",
    "            else:\n",
    "                emission_dict[word_tag] += 1\n",
    "\n",
    "            if previous_tag + \" \" + tag not in transition_dict.keys():\n",
    "                transition_dict[previous_tag + \" \" + tag] = 1\n",
    "            else:\n",
    "                transition_dict[previous_tag + \" \" + tag] += 1\n",
    "\n",
    "            previous_tag = tag\n",
    "    \n",
    "    return PosModelStats(emission_dict, transition_dict, unique_words, unique_tags)\n",
    "\n",
    "\n",
    "def add_one_smoothing():\n",
    "    pass"
   ]
  },
  {
   "cell_type": "code",
   "execution_count": 229,
   "metadata": {},
   "outputs": [],
   "source": [
    "class Dictionary():\n",
    "    def __init__(self):\n",
    "        self.word_dict = {}\n",
    "        self.tag_dict = {}\n",
    "        \n",
    "        self.word_count = 0\n",
    "        self.tag_count = 0\n",
    "    \n",
    "    def add_word(self, word):\n",
    "        if word not in self.word_dict.values():\n",
    "            self.word_dict[self.word_count] = word\n",
    "            self.word_count += 1\n",
    "            return self.word_count - 1\n",
    "        return self.get_word_id(word)\n",
    "    \n",
    "    def add_tag(self, tag):\n",
    "        if tag not in self.tag_dict.values():\n",
    "            self.tag_dict[self.tag_count] = tag\n",
    "            self.tag_count += 1\n",
    "            return self.tag_count - 1\n",
    "        return self.get_tag_id(tag)\n",
    "            \n",
    "    def get_word_id(self, word):\n",
    "        for key, known_word in self.word_dict.items():\n",
    "            if word == known_word:\n",
    "                return key\n",
    "    \n",
    "    def get_tag_id(self, tag):\n",
    "        for key, known_tag in self.tag_dict.items():\n",
    "            if tag == known_tag:\n",
    "                return key\n",
    "    \n",
    "    def get_word_tag_tuple(self, word_tag):\n",
    "        words_tag = word_tag.split(\"/\")\n",
    "        assert len(words_tag) > 1, \"Bad format for word/tag: {}\".format(word_tag)\n",
    "        \n",
    "        word_ids = [self.get_word_id(word) for word in words_tag[:-1]]\n",
    "        tag_id = self.get_tag_id(words_tag[-1])\n",
    "        word_ids.append(tag_id)\n",
    "        return tuple(word_ids)\n",
    "    \n",
    "    \n",
    "class PosStats():\n",
    "    def __init__(self):\n",
    "        self.emissions = {}\n",
    "        self.transitions = {}\n",
    "        self.dictionary = Dictionary()\n",
    "        \n",
    "    def add_word(self, word):\n",
    "        return self.dictionary.add_word(word)\n",
    "        \n",
    "    def add_tag(self, tag):\n",
    "        return self.dictionary.add_tag(tag)\n",
    "        \n",
    "    def add_emission(self, word_id, tag_id):\n",
    "        if (word_id, tag_id) not in self.emissions.keys():\n",
    "            self.emissions[(word_id, tag_id)] = 1\n",
    "        else:\n",
    "            self.emissions[(word_id, tag_id)] += 1\n",
    "        \n",
    "    def add_transition(self, previous_tag_id, tag_id):\n",
    "        if (previous_tag_id, tag_id) not in self.transitions.keys():\n",
    "            self.transitions[(previous_tag_id, tag_id)] = 1\n",
    "        else:\n",
    "            self.transitions[(previous_tag_id, tag_id)] += 1\n",
    "\n",
    "            \n",
    "def extract_frequencies_dict(filename):    \n",
    "    pos_stats = PosStats()\n",
    "\n",
    "    with open(filename) as training_file:\n",
    "        word_tag_pairs = flatten([sentence.split(\" \") for sentence in training_file.read().split(\"\\n\")])        \n",
    "        previous_tag_id = pos_stats.add_tag(word_tag_pairs[0].split(\"/\")[-1])\n",
    "\n",
    "        for word_tag in progress_bar(word_tag_pairs):\n",
    "            if len(word_tag.split(\"/\")) < 2:\n",
    "                continue\n",
    "\n",
    "            word, tag = word_tag.split(\"/\")[-2:]\n",
    "            \n",
    "            word_id = pos_stats.add_word(word)\n",
    "            tag_id = pos_stats.add_tag(tag)\n",
    "            \n",
    "            pos_stats.add_emission(word_id, tag_id)\n",
    "            pos_stats.add_transition(previous_tag_id, tag_id)\n",
    "\n",
    "            previous_tag_id = tag_id\n",
    "    \n",
    "    return pos_stats\n",
    "            "
   ]
  },
  {
   "cell_type": "code",
   "execution_count": 240,
   "metadata": {},
   "outputs": [
    {
     "data": {
      "text/html": [
       "\n",
       "    <div>\n",
       "        <style>\n",
       "            /* Turns off some styling */\n",
       "            progress {\n",
       "                /* gets rid of default border in Firefox and Opera. */\n",
       "                border: none;\n",
       "                /* Needs to be in here for Safari polyfill so background images work as expected. */\n",
       "                background-size: auto;\n",
       "            }\n",
       "            .progress-bar-interrupted, .progress-bar-interrupted::-webkit-progress-bar {\n",
       "                background: #F44336;\n",
       "            }\n",
       "        </style>\n",
       "      <progress value='950029' class='' max='950029', style='width:300px; height:20px; vertical-align: middle;'></progress>\n",
       "      100.00% [950029/950029 06:40<00:00]\n",
       "    </div>\n",
       "    "
      ],
      "text/plain": [
       "<IPython.core.display.HTML object>"
      ]
     },
     "metadata": {},
     "output_type": "display_data"
    }
   ],
   "source": [
    "stats = extract_frequencies_dict('sents.train')"
   ]
  },
  {
   "cell_type": "code",
   "execution_count": 237,
   "metadata": {},
   "outputs": [
    {
     "data": {
      "text/plain": [
       "0"
      ]
     },
     "execution_count": 237,
     "metadata": {},
     "output_type": "execute_result"
    }
   ],
   "source": [
    "stats.dictionary.get_tag_id(\"POS\")"
   ]
  },
  {
   "cell_type": "code",
   "execution_count": 239,
   "metadata": {},
   "outputs": [
    {
     "data": {
      "text/plain": [
       "dict_items([(0, 'IN'), (1, 'DT'), (2, 'NNP'), (3, 'CD'), (4, 'NN'), (5, '``'), (6, \"''\"), (7, 'POS'), (8, '-LRB-'), (9, 'VBN'), (10, 'NNS'), (11, 'VBP'), (12, ','), (13, 'CC'), (14, '-RRB-'), (15, 'VBD'), (16, 'RB'), (17, 'TO'), (18, '.'), (19, 'VBZ'), (20, 'NNPS'), (21, 'PRP'), (22, 'PRP$'), (23, 'VB'), (24, 'JJ'), (25, 'MD'), (26, 'VBG'), (27, 'RBR'), (28, ':'), (29, 'WP'), (30, 'WDT'), (31, 'JJR'), (32, 'PDT'), (33, 'RBS'), (34, 'WRB'), (35, 'JJS'), (36, '$'), (37, 'RP'), (38, 'FW'), (39, 'EX'), (40, 'SYM'), (41, '#'), (42, 'LS'), (43, 'UH'), (44, 'WP$')])"
      ]
     },
     "execution_count": 239,
     "metadata": {},
     "output_type": "execute_result"
    }
   ],
   "source": [
    "stats.dictionary.tag_dict.items()"
   ]
  },
  {
   "cell_type": "code",
   "execution_count": 194,
   "metadata": {},
   "outputs": [
    {
     "name": "stdout",
     "output_type": "stream",
     "text": [
      "CPU times: user 2.9 s, sys: 818 ms, total: 3.72 s\n",
      "Wall time: 4.09 s\n"
     ]
    }
   ],
   "source": [
    "%%time\n",
    "\n",
    "pos_model_stats = extract_frequencies('sents.train')\n"
   ]
  },
  {
   "cell_type": "code",
   "execution_count": 71,
   "metadata": {},
   "outputs": [],
   "source": [
    "import _pickle as pickle\n",
    "\n",
    "def write_output(model_stats, filename=\"model-file\"):\n",
    "    with open(filename, \"wb\") as model_file:\n",
    "        model_file.write(pickle.dumps(model_stats))"
   ]
  },
  {
   "cell_type": "code",
   "execution_count": 72,
   "metadata": {},
   "outputs": [
    {
     "name": "stdout",
     "output_type": "stream",
     "text": [
      "CPU times: user 50.7 ms, sys: 8.89 ms, total: 59.6 ms\n",
      "Wall time: 62.8 ms\n"
     ]
    }
   ],
   "source": [
    "%%time\n",
    "\n",
    "write_output(pos_model_stats)"
   ]
  },
  {
   "cell_type": "code",
   "execution_count": 110,
   "metadata": {},
   "outputs": [],
   "source": [
    "with open(\"model-file\", \"rb\") as model_read:\n",
    "    loaded = pickle.load(model_read)"
   ]
  },
  {
   "cell_type": "markdown",
   "metadata": {},
   "source": [
    "# Simple implementation of POS tagger"
   ]
  },
  {
   "cell_type": "code",
   "execution_count": 143,
   "metadata": {},
   "outputs": [],
   "source": [
    "def read_and_tag(input_filename, pos_tagger):\n",
    "    tagged_sent = []\n",
    "\n",
    "    with open(input_filename, \"r\") as input_file:\n",
    "        sentences = input_file.read().split(\"\\n\")\n",
    "\n",
    "        for sentence in progress_bar(sentences):\n",
    "            tagged_sent.append(pos_tagger(sentence))\n",
    "    \n",
    "    return tagged_sent"
   ]
  },
  {
   "cell_type": "markdown",
   "metadata": {},
   "source": [
    "## Problems\n",
    "\n",
    "How do I deal with words that have yet to be seen in the training data?\n",
    "- Possibly remove capitalization before collecting stats?\n",
    "\n",
    "Very slow performance\n",
    "- Create a dictionary of words and use the word embeddings instead of a dictionary\n",
    "\n",
    "Need to calculate the begining of the sentence transition as well\n",
    "\n",
    "Possibly ignore dictionary creation, but use tuples instead of the initial implementation of the training algorithm"
   ]
  },
  {
   "cell_type": "code",
   "execution_count": 154,
   "metadata": {},
   "outputs": [],
   "source": [
    "from functools import partial\n",
    "from fastprogress import progress_bar\n",
    "\n",
    "common_tag = \"NN\"\n",
    "\n",
    "def word_emissions(word, keys):\n",
    "    return [key for key in keys if key.startswith(word)]\n",
    "\n",
    "def simple_pos_tagger(sentence, stats):\n",
    "    tagged_sentence = []\n",
    "    keys = stats.emissions.keys()\n",
    "    \n",
    "    for word in sentence.split(\" \"):\n",
    "        emission_tags = word_emissions(word, keys)\n",
    "        emission_probs = [stats.emissions[word_tag] for word_tag in emission_tags]\n",
    "\n",
    "        if len(emission_tags) > 0:\n",
    "            tagged_sentence.append(emission_tags[np.argmax(emission_probs)])\n",
    "        else:\n",
    "#             print(\"Word hasn't appeared in the training data: {}\".format(word))\n",
    "            tagged_sentence.append(\"{}/{}\".format(word, common_tag))\n",
    "        \n",
    "    return \" \".join(tagged_sentence)\n",
    "\n",
    "simple_stats_tagger = partial(simple_pos_tagger, stats=loaded)"
   ]
  },
  {
   "cell_type": "code",
   "execution_count": 156,
   "metadata": {},
   "outputs": [
    {
     "data": {
      "text/html": [
       "\n",
       "    <div>\n",
       "        <style>\n",
       "            /* Turns off some styling */\n",
       "            progress {\n",
       "                /* gets rid of default border in Firefox and Opera. */\n",
       "                border: none;\n",
       "                /* Needs to be in here for Safari polyfill so background images work as expected. */\n",
       "                background-size: auto;\n",
       "            }\n",
       "            .progress-bar-interrupted, .progress-bar-interrupted::-webkit-progress-bar {\n",
       "                background: #F44336;\n",
       "            }\n",
       "        </style>\n",
       "      <progress value='1994' class='' max='1994', style='width:300px; height:20px; vertical-align: middle;'></progress>\n",
       "      100.00% [1994/1994 09:32<00:00]\n",
       "    </div>\n",
       "    "
      ],
      "text/plain": [
       "<IPython.core.display.HTML object>"
      ]
     },
     "metadata": {},
     "output_type": "display_data"
    },
    {
     "name": "stdout",
     "output_type": "stream",
     "text": [
      "CPU times: user 9min 7s, sys: 3.54 s, total: 9min 11s\n",
      "Wall time: 9min 32s\n"
     ]
    }
   ],
   "source": [
    "%%time\n",
    "\n",
    "tagged = read_and_tag(\"sents.test\", pos_tagger=simple_stats_tagger)"
   ]
  },
  {
   "cell_type": "code",
   "execution_count": 160,
   "metadata": {},
   "outputs": [],
   "source": [
    "with open(\"simple_test_output.txt\", \"w\") as out_file:\n",
    "    out_file.write(\"\\n\".join(tagged[:-1]))"
   ]
  },
  {
   "cell_type": "code",
   "execution_count": 187,
   "metadata": {},
   "outputs": [],
   "source": [
    "sentence = \"I am a test sentence .\"\n",
    "pos_tags = 45\n",
    "words = len(sentence.split(\" \"))\n",
    "\n",
    "word_dict = {\n",
    "    0: \"fake\",\n",
    "    1: \"news\",\n",
    "    2: \"great\",\n",
    "}\n",
    "\n",
    "pos_dict = {\n",
    "    0: \"NNP\",\n",
    "    1: \"IT\",\n",
    "    2: \"TH\",\n",
    "}\n",
    "\n",
    "transition_probs = {\n",
    "    (0, 0): 0.10,\n",
    "    (0, 1): 0.10,\n",
    "    (0, 2): 0.30,\n",
    "    (1, 0): 0.20,\n",
    "    (2, 1): 0.30,\n",
    "}\n",
    "\n",
    "emission_probs = {\n",
    "    (0, 0): 0.10,\n",
    "    (0, 1): 0.10,\n",
    "    (0, 2): 0.30,\n",
    "    (1, 0): 0.20,\n",
    "    (2, 1): 0.30,\n",
    "}"
   ]
  },
  {
   "cell_type": "code",
   "execution_count": null,
   "metadata": {},
   "outputs": [],
   "source": [
    "class PosStats():\n",
    "    def __init__(self):\n",
    "        self.emissions = {}\n",
    "        self.transitions = {}\n",
    "        self.dictionary = Dictionary()\n",
    "        \n",
    "    def add_word(self, word):\n",
    "        return self.dictionary.add_word(word)\n",
    "        \n",
    "    def add_tag(self, tag):\n",
    "        return self.dictionary.add_tag(tag)\n",
    "        \n",
    "    def add_emission(self, word_id, tag_id):\n",
    "        if (word_id, tag_id) not in self.emissions.keys():\n",
    "            self.emissions[(word_id, tag_id)] = 1\n",
    "        else:\n",
    "            self.emissions[(word_id, tag_id)] += 1\n",
    "        \n",
    "    def add_transition(self, previous_tag_id, tag_id):\n",
    "        if (previous_tag_id, tag_id) not in self.transitions.keys():\n",
    "            self.transitions[(previous_tag_id, tag_id)] = 1\n",
    "        else:\n",
    "            self.transitions[(previous_tag_id, tag_id)] += 1\n",
    "    \n",
    "    def get_emission_prob(word_id)\n",
    "\n",
    "            \n",
    "viterbi = np.zeros((pos_tags, words))\n",
    "backpointers = np.zeros((pos_tags, words))\n",
    "\n",
    "# fill in initial probs\n",
    "# for now skipping the beginning of the sentence probability\n",
    "viterbi[:, 0] = \n",
    "backpointers[:, 0] = -1\n",
    "\n",
    "# fill in the full matrix\n",
    "for word in words:\n",
    "    "
   ]
  },
  {
   "cell_type": "code",
   "execution_count": 188,
   "metadata": {},
   "outputs": [
    {
     "data": {
      "text/plain": [
       "array([[-1.,  0.,  0.,  0.,  0.,  0.],\n",
       "       [-1.,  0.,  0.,  0.,  0.,  0.],\n",
       "       [-1.,  0.,  0.,  0.,  0.,  0.],\n",
       "       [-1.,  0.,  0.,  0.,  0.,  0.],\n",
       "       [-1.,  0.,  0.,  0.,  0.,  0.],\n",
       "       [-1.,  0.,  0.,  0.,  0.,  0.],\n",
       "       [-1.,  0.,  0.,  0.,  0.,  0.],\n",
       "       [-1.,  0.,  0.,  0.,  0.,  0.],\n",
       "       [-1.,  0.,  0.,  0.,  0.,  0.],\n",
       "       [-1.,  0.,  0.,  0.,  0.,  0.],\n",
       "       [-1.,  0.,  0.,  0.,  0.,  0.],\n",
       "       [-1.,  0.,  0.,  0.,  0.,  0.],\n",
       "       [-1.,  0.,  0.,  0.,  0.,  0.],\n",
       "       [-1.,  0.,  0.,  0.,  0.,  0.],\n",
       "       [-1.,  0.,  0.,  0.,  0.,  0.],\n",
       "       [-1.,  0.,  0.,  0.,  0.,  0.],\n",
       "       [-1.,  0.,  0.,  0.,  0.,  0.],\n",
       "       [-1.,  0.,  0.,  0.,  0.,  0.],\n",
       "       [-1.,  0.,  0.,  0.,  0.,  0.],\n",
       "       [-1.,  0.,  0.,  0.,  0.,  0.],\n",
       "       [-1.,  0.,  0.,  0.,  0.,  0.],\n",
       "       [-1.,  0.,  0.,  0.,  0.,  0.],\n",
       "       [-1.,  0.,  0.,  0.,  0.,  0.],\n",
       "       [-1.,  0.,  0.,  0.,  0.,  0.],\n",
       "       [-1.,  0.,  0.,  0.,  0.,  0.],\n",
       "       [-1.,  0.,  0.,  0.,  0.,  0.],\n",
       "       [-1.,  0.,  0.,  0.,  0.,  0.],\n",
       "       [-1.,  0.,  0.,  0.,  0.,  0.],\n",
       "       [-1.,  0.,  0.,  0.,  0.,  0.],\n",
       "       [-1.,  0.,  0.,  0.,  0.,  0.],\n",
       "       [-1.,  0.,  0.,  0.,  0.,  0.],\n",
       "       [-1.,  0.,  0.,  0.,  0.,  0.],\n",
       "       [-1.,  0.,  0.,  0.,  0.,  0.],\n",
       "       [-1.,  0.,  0.,  0.,  0.,  0.],\n",
       "       [-1.,  0.,  0.,  0.,  0.,  0.],\n",
       "       [-1.,  0.,  0.,  0.,  0.,  0.],\n",
       "       [-1.,  0.,  0.,  0.,  0.,  0.],\n",
       "       [-1.,  0.,  0.,  0.,  0.,  0.],\n",
       "       [-1.,  0.,  0.,  0.,  0.,  0.],\n",
       "       [-1.,  0.,  0.,  0.,  0.,  0.],\n",
       "       [-1.,  0.,  0.,  0.,  0.,  0.],\n",
       "       [-1.,  0.,  0.,  0.,  0.,  0.],\n",
       "       [-1.,  0.,  0.,  0.,  0.,  0.],\n",
       "       [-1.,  0.,  0.,  0.,  0.,  0.],\n",
       "       [-1.,  0.,  0.,  0.,  0.,  0.]])"
      ]
     },
     "execution_count": 188,
     "metadata": {},
     "output_type": "execute_result"
    }
   ],
   "source": [
    "backpointers"
   ]
  },
  {
   "cell_type": "code",
   "execution_count": null,
   "metadata": {},
   "outputs": [],
   "source": []
  }
 ],
 "metadata": {
  "kernelspec": {
   "display_name": "Python 3",
   "language": "python",
   "name": "python3"
  },
  "language_info": {
   "codemirror_mode": {
    "name": "ipython",
    "version": 3
   },
   "file_extension": ".py",
   "mimetype": "text/x-python",
   "name": "python",
   "nbconvert_exporter": "python",
   "pygments_lexer": "ipython3",
   "version": "3.7.4"
  }
 },
 "nbformat": 4,
 "nbformat_minor": 2
}
