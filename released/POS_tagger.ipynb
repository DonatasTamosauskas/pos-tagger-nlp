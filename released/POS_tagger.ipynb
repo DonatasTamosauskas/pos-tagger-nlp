{
 "cells": [
  {
   "cell_type": "code",
   "execution_count": 1,
   "metadata": {
    "collapsed": true
   },
   "outputs": [
    {
     "name": "stdout",
     "output_type": "stream",
     "text": [
      "Requirement already satisfied: numpy in /usr/local/lib/python3.7/site-packages (1.16.3)\n",
      "Collecting nltk\n",
      "\u001b[?25l  Downloading https://files.pythonhosted.org/packages/f6/1d/d925cfb4f324ede997f6d47bea4d9babba51b49e87a767c170b77005889d/nltk-3.4.5.zip (1.5MB)\n",
      "\u001b[K     |████████████████████████████████| 1.5MB 3.4MB/s eta 0:00:01\n",
      "\u001b[?25hRequirement already satisfied: six in /usr/local/lib/python3.7/site-packages (from nltk) (1.12.0)\n",
      "Building wheels for collected packages: nltk\n",
      "  Building wheel for nltk (setup.py) ... \u001b[?25ldone\n",
      "\u001b[?25h  Stored in directory: /Users/donatas/Library/Caches/pip/wheels/96/86/f6/68ab24c23f207c0077381a5e3904b2815136b879538a24b483\n",
      "Successfully built nltk\n",
      "Installing collected packages: nltk\n",
      "Successfully installed nltk-3.4.5\n"
     ]
    }
   ],
   "source": [
    "!pip3 install numpy nltk"
   ]
  },
  {
   "cell_type": "code",
   "execution_count": 5,
   "metadata": {},
   "outputs": [
    {
     "name": "stdout",
     "output_type": "stream",
     "text": [
      "Finished...\n",
      "Time: 0:00:00.000121\n"
     ]
    }
   ],
   "source": [
    "# python3.5 buildtagger.py <train_file_absolute_path> <model_file_absolute_path>\n",
    "\n",
    "import os\n",
    "import math\n",
    "import sys\n",
    "import datetime\n",
    "import numpy as np\n",
    "\n",
    "\n",
    "def train_model(train_file, model_file):\n",
    "    # write your code here. You can add functions as well.\n",
    "    print('Finished...')\n",
    "\n",
    "if __name__ == \"__main__\":\n",
    "    # make no changes here\n",
    "    train_file = sys.argv[1]\n",
    "    model_file = sys.argv[2]\n",
    "    start_time = datetime.datetime.now()\n",
    "    train_model(train_file, model_file)\n",
    "    end_time = datetime.datetime.now()\n",
    "    print('Time:', end_time - start_time)\n"
   ]
  },
  {
   "cell_type": "code",
   "execution_count": 5,
   "metadata": {},
   "outputs": [
    {
     "ename": "IndexError",
     "evalue": "list index out of range",
     "output_type": "error",
     "traceback": [
      "\u001b[0;31m---------------------------------------------------------------------------\u001b[0m",
      "\u001b[0;31mIndexError\u001b[0m                                Traceback (most recent call last)",
      "\u001b[0;32m<ipython-input-5-cf9dc9c10541>\u001b[0m in \u001b[0;36m<module>\u001b[0;34m\u001b[0m\n\u001b[1;32m     16\u001b[0m     \u001b[0mtest_file\u001b[0m \u001b[0;34m=\u001b[0m \u001b[0msys\u001b[0m\u001b[0;34m.\u001b[0m\u001b[0margv\u001b[0m\u001b[0;34m[\u001b[0m\u001b[0;36m1\u001b[0m\u001b[0;34m]\u001b[0m\u001b[0;34m\u001b[0m\u001b[0m\n\u001b[1;32m     17\u001b[0m     \u001b[0mmodel_file\u001b[0m \u001b[0;34m=\u001b[0m \u001b[0msys\u001b[0m\u001b[0;34m.\u001b[0m\u001b[0margv\u001b[0m\u001b[0;34m[\u001b[0m\u001b[0;36m2\u001b[0m\u001b[0;34m]\u001b[0m\u001b[0;34m\u001b[0m\u001b[0m\n\u001b[0;32m---> 18\u001b[0;31m     \u001b[0mout_file\u001b[0m \u001b[0;34m=\u001b[0m \u001b[0msys\u001b[0m\u001b[0;34m.\u001b[0m\u001b[0margv\u001b[0m\u001b[0;34m[\u001b[0m\u001b[0;36m3\u001b[0m\u001b[0;34m]\u001b[0m\u001b[0;34m\u001b[0m\u001b[0m\n\u001b[0m\u001b[1;32m     19\u001b[0m     \u001b[0mstart_time\u001b[0m \u001b[0;34m=\u001b[0m \u001b[0mdatetime\u001b[0m\u001b[0;34m.\u001b[0m\u001b[0mdatetime\u001b[0m\u001b[0;34m.\u001b[0m\u001b[0mnow\u001b[0m\u001b[0;34m(\u001b[0m\u001b[0;34m)\u001b[0m\u001b[0;34m\u001b[0m\u001b[0m\n\u001b[1;32m     20\u001b[0m     \u001b[0mtag_sentence\u001b[0m\u001b[0;34m(\u001b[0m\u001b[0mtest_file\u001b[0m\u001b[0;34m,\u001b[0m \u001b[0mmodel_file\u001b[0m\u001b[0;34m,\u001b[0m \u001b[0mout_file\u001b[0m\u001b[0;34m)\u001b[0m\u001b[0;34m\u001b[0m\u001b[0m\n",
      "\u001b[0;31mIndexError\u001b[0m: list index out of range"
     ]
    }
   ],
   "source": [
    "# python3.5 runtagger.py <test_file_absolute_path> <model_file_absolute_path> <output_file_absolute_path>\n",
    "\n",
    "import os\n",
    "import math\n",
    "import sys\n",
    "import datetime\n",
    "import numpy as np\n",
    "\n",
    "\n",
    "def tag_sentence(test_file, model_file, out_file):\n",
    "    # write your code here. You can add functions as well.\n",
    "    print('Finished...')\n",
    "\n",
    "if __name__ == \"__main__\":\n",
    "    # make no changes here\n",
    "    test_file = sys.argv[1]\n",
    "    model_file = sys.argv[2]\n",
    "    out_file = sys.argv[3]\n",
    "    start_time = datetime.datetime.now()\n",
    "    tag_sentence(test_file, model_file, out_file)\n",
    "    end_time = datetime.datetime.now()\n",
    "    print('Time:', end_time - start_time)\n"
   ]
  },
  {
   "cell_type": "markdown",
   "metadata": {},
   "source": [
    "## Creating the model statistics\n",
    "\n",
    "Need to handle special cases like these:\n",
    " - fractions like: 1/2/CD\n",
    " - multiple listings: pianist/bassoonist/composer/NN\n",
    " \n",
    " As far as I understand all of the words belong to the same POS. \n",
    " A function that adds both words should be implemented, but an initial version function should simply take the last two elements and uses them as word + tag.\n",
    " \n",
    " \n",
    " Also, likely the score could be improved by adding add-one-smoothing"
   ]
  },
  {
   "cell_type": "code",
   "execution_count": 52,
   "metadata": {},
   "outputs": [],
   "source": [
    "import itertools\n",
    "flatten = lambda x: list(itertools.chain.from_iterable(x))\n",
    "\n",
    "class PosModelStats():\n",
    "    def __init__(self, emissions, transitions, words, tags):\n",
    "        self.emissions = emissions\n",
    "        self.transitions = transitions\n",
    "        self.words = words\n",
    "        self.tags = tags\n",
    "\n",
    "def extract_frequencies(filename):\n",
    "    emission_dict = {}\n",
    "    transition_dict = {}\n",
    "    unique_words = set()\n",
    "    unique_tags = set()\n",
    "\n",
    "    with open(filename) as training_file:\n",
    "        word_tag_pairs = [sentence.split(\" \") for sentence in training_file.read().split(\"\\n\")]\n",
    "        word_tag_pairs = flatten(word_tag_pairs)\n",
    "        word_count = len(word_tag_pairs)\n",
    "        previous_tag = word_tag_pairs[0].split(\"/\")[-1]\n",
    "\n",
    "        for word_tag in word_tag_pairs:\n",
    "            if len(word_tag.split(\"/\")) < 2:\n",
    "                continue\n",
    "\n",
    "            word, tag = word_tag.split(\"/\")[-2:]\n",
    "\n",
    "            unique_words.add(word)\n",
    "            unique_tags.add(tag)\n",
    "\n",
    "            if word_tag not in emission_dict.keys():\n",
    "                emission_dict[word_tag] = 1\n",
    "            else:\n",
    "                emission_dict[word_tag] += 1\n",
    "\n",
    "            if previous_tag + \" \" + tag not in transition_dict.keys():\n",
    "                transition_dict[previous_tag + \" \" + tag] = 1\n",
    "            else:\n",
    "                transition_dict[previous_tag + \" \" + tag] += 1\n",
    "\n",
    "            previous_tag = tag\n",
    "    \n",
    "    return PosModelStats(emission_dict, transition_dict, unique_words, unique_tags)\n",
    "            \n",
    "def add_one_smoothing():\n",
    "    pass"
   ]
  },
  {
   "cell_type": "code",
   "execution_count": 53,
   "metadata": {},
   "outputs": [
    {
     "name": "stdout",
     "output_type": "stream",
     "text": [
      "CPU times: user 2.5 s, sys: 47.4 ms, total: 2.55 s\n",
      "Wall time: 2.6 s\n"
     ]
    }
   ],
   "source": [
    "%%time\n",
    "\n",
    "pos_model_stats = extract_frequencies('sents.train')\n"
   ]
  },
  {
   "cell_type": "code",
   "execution_count": 71,
   "metadata": {},
   "outputs": [],
   "source": [
    "import _pickle as pickle\n",
    "\n",
    "def write_output(model_stats, filename=\"model-file\"):\n",
    "    with open(filename, \"wb\") as model_file:\n",
    "        model_file.write(pickle.dumps(model_stats))"
   ]
  },
  {
   "cell_type": "code",
   "execution_count": 72,
   "metadata": {},
   "outputs": [
    {
     "name": "stdout",
     "output_type": "stream",
     "text": [
      "CPU times: user 50.7 ms, sys: 8.89 ms, total: 59.6 ms\n",
      "Wall time: 62.8 ms\n"
     ]
    }
   ],
   "source": [
    "%%time\n",
    "\n",
    "write_output(pos_model_stats)"
   ]
  },
  {
   "cell_type": "code",
   "execution_count": 65,
   "metadata": {},
   "outputs": [],
   "source": [
    "with open(\"model-file\", \"rb\") as model_read:\n",
    "    loaded = pickle.load(model_read)"
   ]
  }
 ],
 "metadata": {
  "kernelspec": {
   "display_name": "Python 3",
   "language": "python",
   "name": "python3"
  },
  "language_info": {
   "codemirror_mode": {
    "name": "ipython",
    "version": 3
   },
   "file_extension": ".py",
   "mimetype": "text/x-python",
   "name": "python",
   "nbconvert_exporter": "python",
   "pygments_lexer": "ipython3",
   "version": "3.7.4"
  }
 },
 "nbformat": 4,
 "nbformat_minor": 2
}
