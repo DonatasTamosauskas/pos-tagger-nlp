{
 "cells": [
  {
   "cell_type": "markdown",
   "metadata": {},
   "source": [
    "# Build and train the model"
   ]
  },
  {
   "cell_type": "code",
   "execution_count": 6,
   "metadata": {},
   "outputs": [
    {
     "name": "stdout",
     "output_type": "stream",
     "text": [
      "Finished...\n"
     ]
    }
   ],
   "source": [
    "import os\n",
    "import math\n",
    "import sys\n",
    "\n",
    "import torch\n",
    "import torch.nn as nn\n",
    "import torch.nn.functional as F\n",
    "import torch.optim as optim\n",
    "\n",
    "def train_model(train_file, model_file):\n",
    "    # write your code here. You can add functions as well.\n",
    "    # use torch library to save model parameters, hyperparameters, etc. to model_file\n",
    "    print('Finished...')\n",
    "\n",
    "if __name__ == \"__main__\":\n",
    "    # make no changes here\n",
    "    train_file = sys.argv[1]\n",
    "    model_file = sys.argv[2]\n",
    "    train_model(train_file, model_file)\n"
   ]
  },
  {
   "cell_type": "markdown",
   "metadata": {},
   "source": [
    "# Load and do the inference"
   ]
  },
  {
   "cell_type": "code",
   "execution_count": null,
   "metadata": {},
   "outputs": [],
   "source": [
    "import os\n",
    "import math\n",
    "import sys\n",
    "import torch\n",
    "\n",
    "def tag_sentence(test_file, model_file, out_file):\n",
    "    # write your code here. You can add functions as well.\n",
    "\t\t# use torch library to load model_file\n",
    "    print('Finished...')\n",
    "\n",
    "if __name__ == \"__main__\":\n",
    "    # make no changes here\n",
    "    test_file = sys.argv[1]\n",
    "    model_file = sys.argv[2]\n",
    "    out_file = sys.argv[3]\n",
    "    tag_sentence(test_file, model_file, out_file)\n"
   ]
  },
  {
   "cell_type": "markdown",
   "metadata": {},
   "source": [
    "# The network:\n",
    "1. CNN character level word embedder\n",
    "1. concatenate CNN embedding with word embedding\n",
    "1. bi-directional LSTM block, looking at a sentence\n",
    "1. fully conncected layer? (what does linear projection mean?)"
   ]
  },
  {
   "cell_type": "code",
   "execution_count": 55,
   "metadata": {},
   "outputs": [],
   "source": [
    "import torch\n",
    "import torch.utils.data\n",
    "\n",
    "class Dataset(torch.utils.data.Dataset):\n",
    "    \"\"\"\n",
    "    \n",
    "    \"\"\"\n",
    "    def __init__(self, path):\n",
    "        self.vocab = []\n",
    "        self.vocab_set = {}\n",
    "        self.text = []\n",
    "        self.tags = []\n",
    "        \n",
    "        self.create_vocabs(path)\n",
    "    \n",
    "    def __len__(self):\n",
    "        pass\n",
    "    \n",
    "    def __getitem__(self):\n",
    "        \"\"\"\n",
    "        Embedded sentence structure:\n",
    "        [\n",
    "            [[letter_emb1, letter_emb2, ...], [letter_emb6, letter_emb7, ...], ...],\n",
    "            [word_embedding1, word_embedding2, ...]\n",
    "        ]\n",
    "        \"\"\"\n",
    "        return {'embedded_sentence': [], 'pos_tags': []}\n",
    "    \n",
    "    def create_vocabs(self, path, to_lower=True):\n",
    "        vocab_set = set()\n",
    "        tag_set = set()\n",
    "        \n",
    "        with open(path, 'r') as input_file:\n",
    "            for sentence in input_file.read().split(\"\\n\"):\n",
    "                for word in sentence.split(\" \"):\n",
    "                    words_tag = word.split(\"/\")\n",
    "                    if len(words_tag) >= 2:\n",
    "                        tag = words_tag.pop()\n",
    "                        word = \"/\".join(words_tag)\n",
    "\n",
    "                        vocab_set.add(word.lower() if to_lower else word)\n",
    "                        tag_set.add(tag)\n",
    "                    \n",
    "        self.vocab = list(vocab_set)\n",
    "        self.tags = list(tag_set)\n",
    "    \n"
   ]
  },
  {
   "cell_type": "code",
   "execution_count": 56,
   "metadata": {},
   "outputs": [
    {
     "data": {
      "text/plain": [
       "\"In/IN an/DT Oct./NNP 19/CD review/NN of/IN ``/`` The/DT Misanthrope/NN ''/'' at/IN Chicago/NNP 's/POS Goodman/NNP Theatre/NNP (/-LRB- ``/`` Revitalized/VBN Classics/NNS Take/VBP the/DT Stage/NN in/IN Windy/NNP City/NNP ,/, ''/'' Leisure/NN &/CC Arts/NNS )/-RRB- ,/, the/DT role/NN of/IN Celimene/NNP ,/, played/VBN by/IN Kim/NNP Cattrall/NNP ,/, was/VBD mistakenly/RB attributed/VBN to/TO Christina/NNP Haag/NNP ./.\\n\""
      ]
     },
     "execution_count": 56,
     "metadata": {},
     "output_type": "execute_result"
    }
   ],
   "source": [
    "from pathlib import Path\n",
    "training_data = Path(\"../data/sents.train\")\n",
    "open(training_data).readline()"
   ]
  },
  {
   "cell_type": "code",
   "execution_count": 57,
   "metadata": {},
   "outputs": [
    {
     "name": "stdout",
     "output_type": "stream",
     "text": [
      "CPU times: user 1.19 s, sys: 0 ns, total: 1.19 s\n",
      "Wall time: 1.19 s\n"
     ]
    }
   ],
   "source": [
    "%%time\n",
    "dataset = Dataset(training_data)"
   ]
  },
  {
   "cell_type": "code",
   "execution_count": 60,
   "metadata": {},
   "outputs": [
    {
     "data": {
      "text/plain": [
       "['WRB',\n",
       " 'VBP',\n",
       " 'VBN',\n",
       " 'VBD',\n",
       " 'PDT',\n",
       " 'PRP$',\n",
       " 'RB',\n",
       " 'RBR',\n",
       " 'VBG',\n",
       " '-RRB-',\n",
       " ':',\n",
       " 'EX',\n",
       " 'NNS',\n",
       " \"''\",\n",
       " 'CD',\n",
       " 'IN',\n",
       " ',',\n",
       " 'WP',\n",
       " 'WDT',\n",
       " 'RP',\n",
       " 'VBZ',\n",
       " 'CC',\n",
       " 'JJ',\n",
       " 'JJR',\n",
       " 'VB',\n",
       " 'FW',\n",
       " '.',\n",
       " '``',\n",
       " 'DT',\n",
       " '$',\n",
       " 'POS',\n",
       " 'NN',\n",
       " 'PRP',\n",
       " 'MD',\n",
       " 'NNPS',\n",
       " 'RBS',\n",
       " 'SYM',\n",
       " 'LS',\n",
       " 'WP$',\n",
       " 'UH',\n",
       " 'JJS',\n",
       " '#',\n",
       " 'TO',\n",
       " '-LRB-',\n",
       " 'NNP']"
      ]
     },
     "execution_count": 60,
     "metadata": {},
     "output_type": "execute_result"
    }
   ],
   "source": [
    "dataset.tags"
   ]
  },
  {
   "cell_type": "code",
   "execution_count": 54,
   "metadata": {},
   "outputs": [
    {
     "data": {
      "text/plain": [
       "[1, 2]"
      ]
     },
     "execution_count": 54,
     "metadata": {},
     "output_type": "execute_result"
    }
   ],
   "source": [
    "listy = [1, 2, 3]\n",
    "listy.pop()\n",
    "listy"
   ]
  },
  {
   "cell_type": "code",
   "execution_count": 10,
   "metadata": {},
   "outputs": [
    {
     "data": {
      "text/plain": [
       "97"
      ]
     },
     "execution_count": 10,
     "metadata": {},
     "output_type": "execute_result"
    }
   ],
   "source": [
    "ord('a')"
   ]
  },
  {
   "cell_type": "markdown",
   "metadata": {},
   "source": [
    "## Proposed plan:\n",
    "1. Begin with word-level LSTM (check for an example in forum)\n",
    "2. Make it bi-directional\n",
    "3. Add character-level CNN"
   ]
  },
  {
   "cell_type": "markdown",
   "metadata": {},
   "source": [
    "Try a new notebook: https://polynote.org/docs/01-installation.html"
   ]
  },
  {
   "cell_type": "code",
   "execution_count": null,
   "metadata": {},
   "outputs": [],
   "source": []
  }
 ],
 "metadata": {
  "kernelspec": {
   "display_name": "Python 3",
   "language": "python",
   "name": "python3"
  },
  "language_info": {
   "codemirror_mode": {
    "name": "ipython",
    "version": 3
   },
   "file_extension": ".py",
   "mimetype": "text/x-python",
   "name": "python",
   "nbconvert_exporter": "python",
   "pygments_lexer": "ipython3",
   "version": "3.6.5"
  }
 },
 "nbformat": 4,
 "nbformat_minor": 2
}
