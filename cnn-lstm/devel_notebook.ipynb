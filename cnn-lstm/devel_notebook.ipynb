{
 "cells": [
  {
   "cell_type": "markdown",
   "metadata": {},
   "source": [
    "# Build and train the model"
   ]
  },
  {
   "cell_type": "code",
   "execution_count": 2,
   "metadata": {},
   "outputs": [
    {
     "name": "stdout",
     "output_type": "stream",
     "text": [
      "Finished...\n"
     ]
    }
   ],
   "source": [
    "import os\n",
    "import math\n",
    "import sys\n",
    "\n",
    "import torch\n",
    "import torch.nn as nn\n",
    "import torch.nn.functional as F\n",
    "import torch.optim as optim\n",
    "\n",
    "def train_model(train_file, model_file):\n",
    "    # write your code here. You can add functions as well.\n",
    "    # use torch library to save model parameters, hyperparameters, etc. to model_file\n",
    "    print('Finished...')\n",
    "\n",
    "if __name__ == \"__main__\":\n",
    "    # make no changes here\n",
    "    train_file = sys.argv[1]\n",
    "    model_file = sys.argv[2]\n",
    "    train_model(train_file, model_file)\n"
   ]
  },
  {
   "cell_type": "markdown",
   "metadata": {},
   "source": [
    "# Load and do the inference"
   ]
  },
  {
   "cell_type": "markdown",
   "metadata": {},
   "source": [
    "# The network:\n",
    "1. CNN character level word embedder\n",
    "1. concatenate CNN embedding with word embedding\n",
    "1. bi-directional LSTM block, looking at a sentence\n",
    "1. fully conncected layer? (what does linear projection mean?)"
   ]
  },
  {
   "cell_type": "code",
   "execution_count": 3,
   "metadata": {},
   "outputs": [
    {
     "name": "stdout",
     "output_type": "stream",
     "text": [
      "Requirement already satisfied: fastprogress in /opt/conda/lib/python3.6/site-packages (0.1.21)\r\n",
      "Requirement already satisfied: matplotlib in /opt/conda/lib/python3.6/site-packages (3.1.1)\r\n",
      "Requirement already satisfied: kiwisolver>=1.0.1 in /opt/conda/lib/python3.6/site-packages (from matplotlib) (1.1.0)\r\n",
      "Requirement already satisfied: python-dateutil>=2.1 in /opt/conda/lib/python3.6/site-packages (from matplotlib) (2.8.0)\r\n",
      "Requirement already satisfied: cycler>=0.10 in /opt/conda/lib/python3.6/site-packages (from matplotlib) (0.10.0)\r\n",
      "Requirement already satisfied: pyparsing!=2.0.4,!=2.1.2,!=2.1.6,>=2.0.1 in /opt/conda/lib/python3.6/site-packages (from matplotlib) (2.4.2)\r\n",
      "Requirement already satisfied: numpy>=1.11 in /opt/conda/lib/python3.6/site-packages (from matplotlib) (1.17.2)\r\n",
      "Requirement already satisfied: setuptools in /opt/conda/lib/python3.6/site-packages (from kiwisolver>=1.0.1->matplotlib) (41.4.0)\r\n",
      "Requirement already satisfied: six>=1.5 in /opt/conda/lib/python3.6/site-packages (from python-dateutil>=2.1->matplotlib) (1.12.0)\r\n"
     ]
    }
   ],
   "source": [
    "!pip install fastprogress matplotlib\n",
    "from fastprogress import progress_bar, master_bar\n",
    "import matplotlib.pyplot as plt\n",
    "from pathlib import Path\n",
    "import numpy as np\n",
    "\n",
    "training_data = Path(\"../data/sents.train\")"
   ]
  },
  {
   "cell_type": "markdown",
   "metadata": {},
   "source": [
    "# Creating data input pipeline"
   ]
  },
  {
   "cell_type": "code",
   "execution_count": 4,
   "metadata": {},
   "outputs": [],
   "source": [
    "import torch\n",
    "import torch.utils.data\n",
    "\n",
    "\n",
    "class Dataset(torch.utils.data.Dataset):\n",
    "    def __init__(self, path, to_lower=True, training=True):\n",
    "        self.to_lower = to_lower\n",
    "        self.training = training\n",
    "        \n",
    "        self.sentences = []\n",
    "        self.vocab = []\n",
    "        self.tags = []\n",
    "        \n",
    "        self.generate_dataset(path)\n",
    "    \n",
    "    def __len__(self):\n",
    "        return len(self.sentences)\n",
    "    \n",
    "    def __getitem__(self, index):\n",
    "        sentence_embs, tag_embs = self.transform_sentence(self.sentences[index])\n",
    "        return sentence_embs, tag_embs\n",
    "    \n",
    "    def generate_dataset(self, path):\n",
    "        with open(path, 'r') as input_file:\n",
    "            self.sentences = input_file.read().split(\"\\n\")\n",
    "            \n",
    "            if len(self.vocab) == 0:\n",
    "                self.create_vocabs(self.sentences)\n",
    "                self.vocab_size = len(self.vocab)\n",
    "                self.tag_size = len(self.tags)\n",
    "            \n",
    "            if self.sentences[-1] == \"\":\n",
    "                self.sentences.pop()\n",
    "    \n",
    "    def create_vocabs(self, sentences):\n",
    "        vocab_set = set()\n",
    "        tag_set = set()\n",
    "\n",
    "        for sentence in sentences:\n",
    "            for word in sentence.split(\" \"):\n",
    "                try:\n",
    "                    word, tag = self.split_words_tag(word)\n",
    "                    vocab_set.add(word.lower() if self.to_lower else word)\n",
    "                    tag_set.add(tag)\n",
    "                except RuntimeError:\n",
    "                    print(\"Not a valid word/tag pair: \" + word)\n",
    "\n",
    "        self.vocab = list(vocab_set)\n",
    "        self.tags = list(tag_set)\n",
    "            \n",
    "    def transform_sentence(self, sentence):\n",
    "        numeric_sent = []\n",
    "        tags = []\n",
    "\n",
    "        for word_tag in sentence.split(\" \"):\n",
    "            try:\n",
    "                if self.training:\n",
    "                    word, tag = self.split_words_tag(word_tag)\n",
    "                    tag_id = self.tags.index(tag)\n",
    "                else:\n",
    "                    word = word_tag\n",
    "                    \n",
    "                word_id = self.vocab.index(word.lower() if self.to_lower else word)\n",
    "\n",
    "            except RuntimeError:\n",
    "                print(\"Not a valid word/tag pair: \" + word_tag)\n",
    "            except ValueError:\n",
    "                print(\"Word not in the vocab: \" + word_tag)\n",
    "                # The id of an unknown word\n",
    "                word_id = len(self.vocab) - 1\n",
    "\n",
    "            numeric_sent.append(word_id)\n",
    "            if self.training: tags.append(tag_id)\n",
    "\n",
    "        return torch.tensor(numeric_sent), torch.tensor(tags) if self.training else []\n",
    "\n",
    "    @staticmethod\n",
    "    def split_words_tag(word):\n",
    "        words_tag = word.split(\"/\")\n",
    "        \n",
    "        if len(words_tag) < 2: \n",
    "            raise RuntimeError(\"Not a valid word/tag pair:\" + word)\n",
    "            \n",
    "        tag = words_tag.pop()\n",
    "        word = \"/\".join(words_tag)\n",
    "        \n",
    "        return word, tag\n",
    "    \n",
    "    def print_sentence(self, sentence):\n",
    "        print(\" \".join([self.vocab[word.item()] for word in sentence.view(-1)]))\n",
    "                \n",
    "    def decode_sentence(self, sentence):\n",
    "        return [self.vocab[word.item()] for word in sentence.view(-1)]\n",
    "    \n",
    "    def decode_tags(self, tag_ids):\n",
    "        return [self.tags[tag.item()] for tag in tag_ids.view(-1)]\n",
    "    \n",
    "    def __getstate__(self):\n",
    "        d = dict(self.__dict__)\n",
    "        del d['sentences']\n",
    "        return d\n",
    "    \n",
    "    def __setstate(self, d):\n",
    "        self.__dict__.update(d)\n",
    "        self.__dict__.update({'sentences': []})"
   ]
  },
  {
   "cell_type": "code",
   "execution_count": 5,
   "metadata": {},
   "outputs": [
    {
     "name": "stdout",
     "output_type": "stream",
     "text": [
      "Not a valid word/tag pair: \n",
      "CPU times: user 1.44 s, sys: 2.15 ms, total: 1.44 s\n",
      "Wall time: 1.45 s\n"
     ]
    }
   ],
   "source": [
    "%%time\n",
    "dataset = Dataset(training_data)"
   ]
  },
  {
   "cell_type": "markdown",
   "metadata": {},
   "source": [
    "## DataLoader implementation"
   ]
  },
  {
   "cell_type": "code",
   "execution_count": 6,
   "metadata": {},
   "outputs": [],
   "source": [
    "from torch.utils.data import DataLoader\n",
    "\n",
    "batch_size = 1\n",
    "num_workers = 4\n",
    "\n",
    "\n",
    "pos_dataloader = DataLoader(dataset, batch_size=batch_size, num_workers=num_workers)"
   ]
  },
  {
   "cell_type": "markdown",
   "metadata": {},
   "source": [
    "# Initial simple model implementation "
   ]
  },
  {
   "cell_type": "markdown",
   "metadata": {},
   "source": [
    "## Proposed plan:\n",
    "1. Begin with word-level LSTM (check for an example in forum)\n",
    "2. Make it bi-directional\n",
    "3. Add character-level CNN"
   ]
  },
  {
   "cell_type": "markdown",
   "metadata": {},
   "source": [
    "Try a new notebook: https://polynote.org/docs/01-installation.html"
   ]
  },
  {
   "cell_type": "code",
   "execution_count": 7,
   "metadata": {},
   "outputs": [],
   "source": [
    "class PipelineTestModel(nn.Module):\n",
    "    def __init__(self, vocab_size, emb_dims, output_dims):\n",
    "        super(PipelineTestModel, self).__init__()\n",
    "        \n",
    "        self.vocab_size = vocab_size\n",
    "        self.emb_dims = emb_dims\n",
    "        self.output_dims = output_dims\n",
    "        \n",
    "        self.emb = nn.Embedding(self.vocab_size, self.emb_dims)\n",
    "        self.fc = nn.LSTM(self.emb_dims, self.output_dims)\n",
    "        \n",
    "    def forward(self, sentence):\n",
    "        print(sentence.shape)\n",
    "        emb = self.emb(sentence)\n",
    "        print(emb.shape)\n",
    "#         tags = F.softmax(self.fc(emb), dim=self.output_dims)\n",
    "        tags = self.fc(emb.view(len(sentence), 1, -1))\n",
    "        print(tags.shape)\n",
    "        return tags    \n",
    "    \n",
    "    \n",
    "class LSTMTagger(nn.Module):\n",
    "\n",
    "    def __init__(self, embedding_dim, hidden_dim, vocab_size, tagset_size):\n",
    "        super(LSTMTagger, self).__init__()\n",
    "        self.hidden_dim = hidden_dim\n",
    "\n",
    "        self.word_embeddings = nn.Embedding(vocab_size, embedding_dim)\n",
    "\n",
    "        # The LSTM takes word embeddings as inputs, and outputs hidden states\n",
    "        # with dimensionality hidden_dim.\n",
    "        self.lstm = nn.LSTM(embedding_dim, hidden_dim)\n",
    "\n",
    "        # The linear layer that maps from hidden state space to tag space\n",
    "        self.hidden2tag = nn.Linear(hidden_dim, tagset_size)\n",
    "\n",
    "    def forward(self, sentence):\n",
    "        embeds = self.word_embeddings(sentence)\n",
    "        lstm_out, _ = self.lstm(embeds.view(len(sentence[-1]), 1, -1))\n",
    "        tag_space = self.hidden2tag(lstm_out.view(len(sentence[-1]), -1))\n",
    "        tag_scores = F.log_softmax(tag_space, dim=1)\n",
    "        return tag_scores\n"
   ]
  },
  {
   "cell_type": "code",
   "execution_count": 8,
   "metadata": {},
   "outputs": [],
   "source": [
    "embedding_dims = 128\n",
    "hidden_dims = 64\n",
    "vocab_size = dataset.vocab_size\n",
    "tagset_size = dataset.tag_size\n",
    "\n",
    "model = LSTMTagger(embedding_dims, hidden_dims, vocab_size, tagset_size)"
   ]
  },
  {
   "cell_type": "code",
   "execution_count": 9,
   "metadata": {},
   "outputs": [],
   "source": [
    "pos_dataloader = DataLoader(dataset, batch_size=batch_size, num_workers=num_workers)"
   ]
  },
  {
   "cell_type": "code",
   "execution_count": 10,
   "metadata": {},
   "outputs": [
    {
     "name": "stdout",
     "output_type": "stream",
     "text": [
      "torch.Size([1, 49, 45])   torch.Size([1, 49])\n"
     ]
    }
   ],
   "source": [
    "class TestEmbedding(nn.Module):\n",
    "    def __init__(self, vocab_size, emb_size, hidden, out_dims):\n",
    "        super(TestEmbedding, self).__init__()\n",
    "        self.vocab_size = vocab_size\n",
    "        self.emb_size = emb_size\n",
    "        self.hidden = hidden\n",
    "        self.out_dims = out_dims\n",
    "        \n",
    "        self.emb = nn.Embedding(self.vocab_size, self.emb_size)\n",
    "        self.lstm = nn.LSTM(self.emb_size, self.hidden)\n",
    "        self.fc = nn.Linear(self.hidden, self.out_dims)\n",
    "        \n",
    "    def forward(self, sentence):\n",
    "        embeddings = self.emb(sentence)\n",
    "        hidden, _ = self.lstm(embeddings)\n",
    "#         return hidden.view(len(sentence[-1]), 1, -1)\n",
    "        return self.fc(hidden.view(len(sentence[-1]), 1, -1)).view(1, len(sentence[-1]), -1)\n",
    "    \n",
    "test_model = TestEmbedding(dataset.vocab_size, 128, 10, dataset.tag_size)\n",
    "loss_func = nn.NLLLoss()\n",
    "optimizer = optim.SGD(model.parameters(), lr=0.01)\n",
    "\n",
    "\n",
    "x, y = next(iter(pos_dataloader))\n",
    "\n",
    "pred = test_model(x)\n",
    "test_model.zero_grad()\n",
    "\n",
    "print(pred.shape, \" \", y.shape)\n",
    "\n",
    "loss = loss_func(pred.view(-1, 45), y.view(-1))\n",
    "\n",
    "\n",
    "# y1, (y2, y3) = test_model(x)\n",
    "# print(y1.shape)\n",
    "# print(y2.shape)\n",
    "# print(y3.shape)"
   ]
  },
  {
   "cell_type": "markdown",
   "metadata": {},
   "source": [
    "## Pad the input so that it is possible to use mini-batches\n",
    "\n",
    "- Padding | https://discuss.pytorch.org/t/understanding-pack-padded-sequence-and-pad-packed-sequence/4099\n",
    "- Padding | https://discuss.pytorch.org/t/simple-working-example-how-to-use-packing-for-variable-length-sequence-inputs-for-rnn/2120\n",
    "\n",
    "## The padding needs to take place in the DataLoader\n",
    "- Most likely will need to use sampler & collate_fn\n"
   ]
  },
  {
   "cell_type": "code",
   "execution_count": 11,
   "metadata": {},
   "outputs": [
    {
     "data": {
      "text/html": [],
      "text/plain": [
       "<IPython.core.display.HTML object>"
      ]
     },
     "metadata": {},
     "output_type": "display_data"
    },
    {
     "name": "stdout",
     "output_type": "stream",
     "text": [
      "CPU times: user 1min 58s, sys: 13.7 s, total: 2min 11s\n",
      "Wall time: 4min 24s\n"
     ]
    }
   ],
   "source": [
    "%%time\n",
    "\n",
    "gpu = torch.device(\"cuda\")\n",
    "\n",
    "embedding_dims = 128\n",
    "hidden_dims = 128\n",
    "vocab_size = dataset.vocab_size + 1 # For unkown words\n",
    "tagset_size = dataset.tag_size\n",
    "\n",
    "model = LSTMTagger(embedding_dims, hidden_dims, vocab_size, tagset_size)\n",
    "loss_func = nn.NLLLoss()\n",
    "optimizer = optim.Adam(model.parameters(), lr=0.01)\n",
    "\n",
    "epochs = 1\n",
    "fake_batch = 32\n",
    "\n",
    "tag_size = dataset.tag_size\n",
    "losses = []\n",
    "\n",
    "i = 0\n",
    "\n",
    "model.to(gpu)\n",
    "model.zero_grad()\n",
    "\n",
    "master = master_bar(range(epochs))\n",
    "for epoch in master:\n",
    "    for x, y in progress_bar(pos_dataloader, parent=master):\n",
    "        if i % fake_batch == 0:\n",
    "            optimizer.step() # does not work\n",
    "            model.zero_grad()\n",
    "\n",
    "        x, y = x.to(gpu), y.to(gpu)\n",
    "        pred = model(x)\n",
    "        loss = loss_func(pred.view(-1, tag_size), y.view(-1))\n",
    "        loss.backward()\n",
    "            \n",
    "        if i % 100 == 0: losses.append(loss.item())\n",
    "        i += 1\n",
    "        \n",
    "        "
   ]
  },
  {
   "cell_type": "code",
   "execution_count": 17,
   "metadata": {},
   "outputs": [
    {
     "name": "stdout",
     "output_type": "stream",
     "text": [
      "3.6346540451049805\n"
     ]
    },
    {
     "data": {
      "image/png": "[encoded data removed]",
      "text/plain": [
       "<Figure size 432x288 with 1 Axes>"
      ]
     },
     "metadata": {
      "needs_background": "light"
     },
     "output_type": "display_data"
    }
   ],
   "source": [
    "plt.plot(losses)\n",
    "print(min(losses))"
   ]
  },
  {
   "cell_type": "markdown",
   "metadata": {},
   "source": [
    "## Exporting trained model and built dictionary"
   ]
  },
  {
   "cell_type": "code",
   "execution_count": 18,
   "metadata": {},
   "outputs": [],
   "source": [
    "def export_model(model, dataset, train_time):\n",
    "    model_name = str(type(model)).split(\".\")[-1][:-2]\n",
    "    model_save_name = model_name + \"_\" + str(train_time)\n",
    "    \n",
    "    torch.save(model, model_save_name + \"_1.data\")\n",
    "    torch.save(dataset, model_save_name + \"_2.data\")"
   ]
  },
  {
   "cell_type": "code",
   "execution_count": 19,
   "metadata": {},
   "outputs": [
    {
     "name": "stderr",
     "output_type": "stream",
     "text": [
      "/opt/conda/lib/python3.6/site-packages/torch/serialization.py:292: UserWarning: Couldn't retrieve source code for container of type LSTMTagger. It won't be checked for correctness upon loading.\n",
      "  \"type \" + obj.__name__ + \". It won't be checked \"\n",
      "/opt/conda/lib/python3.6/site-packages/torch/serialization.py:292: UserWarning: Couldn't retrieve source code for container of type Embedding. It won't be checked for correctness upon loading.\n",
      "  \"type \" + obj.__name__ + \". It won't be checked \"\n",
      "/opt/conda/lib/python3.6/site-packages/torch/serialization.py:292: UserWarning: Couldn't retrieve source code for container of type LSTM. It won't be checked for correctness upon loading.\n",
      "  \"type \" + obj.__name__ + \". It won't be checked \"\n",
      "/opt/conda/lib/python3.6/site-packages/torch/serialization.py:292: UserWarning: Couldn't retrieve source code for container of type Linear. It won't be checked for correctness upon loading.\n",
      "  \"type \" + obj.__name__ + \". It won't be checked \"\n"
     ]
    }
   ],
   "source": [
    "export_model(model, dataset, 5)\n"
   ]
  },
  {
   "cell_type": "code",
   "execution_count": null,
   "metadata": {},
   "outputs": [],
   "source": []
  }
 ],
 "metadata": {
  "kernelspec": {
   "display_name": "Python 3",
   "language": "python",
   "name": "python3"
  },
  "language_info": {
   "codemirror_mode": {
    "name": "ipython",
    "version": 3
   },
   "file_extension": ".py",
   "mimetype": "text/x-python",
   "name": "python",
   "nbconvert_exporter": "python",
   "pygments_lexer": "ipython3",
   "version": "3.6.9"
  }
 },
 "nbformat": 4,
 "nbformat_minor": 2
}
